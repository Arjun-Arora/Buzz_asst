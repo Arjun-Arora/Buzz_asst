{
 "cells": [
  {
   "cell_type": "code",
   "execution_count": 2,
   "metadata": {},
   "outputs": [],
   "source": [
    "import tensorflow as tf\n",
    "from tensorflow.examples.tutorials.mnist import input_data\n",
    "import matplotlib.pyplot as plt \n",
    "import numpy as np\n",
    "from tqdm import tqdm\n",
    "import sklearn as sk"
   ]
  },
  {
   "cell_type": "markdown",
   "metadata": {},
   "source": [
    "# Task 1 - Load the MNIST Dataset\n",
    "\n",
    "Here I just load the mnist dataset and provide a quick look at a sample"
   ]
  },
  {
   "cell_type": "code",
   "execution_count": 4,
   "metadata": {},
   "outputs": [
    {
     "name": "stdout",
     "output_type": "stream",
     "text": [
      "Extracting MNIST_data/train-images-idx3-ubyte.gz\n",
      "Extracting MNIST_data/train-labels-idx1-ubyte.gz\n",
      "Extracting MNIST_data/t10k-images-idx3-ubyte.gz\n",
      "Extracting MNIST_data/t10k-labels-idx1-ubyte.gz\n",
      "X shape: (55000, 784)\n",
      "Y shape: (55000, 10)\n",
      "\n"
     ]
    },
    {
     "data": {
      "text/plain": [
       "<matplotlib.image.AxesImage at 0x7fc7a8f63310>"
      ]
     },
     "execution_count": 4,
     "metadata": {},
     "output_type": "execute_result"
    },
    {
     "data": {
      "image/png": "[encoded data removed]",
      "text/plain": [
       "<Figure size 432x288 with 1 Axes>"
      ]
     },
     "metadata": {
      "needs_background": "light"
     },
     "output_type": "display_data"
    }
   ],
   "source": [
    "mnist = input_data.read_data_sets(\"MNIST_data\", one_hot=True)\n",
    "# print out shapes and example im\n",
    "print(\"X shape: {}\".format(mnist.train.images.shape))\n",
    "print(\"Y shape: {}\".format(mnist.train.labels.shape))\n",
    "n = 28\n",
    "n_classes = 10\n",
    "print()\n",
    "plt.imshow(mnist.train.images[4].reshape(28,28))"
   ]
  },
  {
   "cell_type": "markdown",
   "metadata": {},
   "source": [
    "# Task 2 - Define weights and bias\n",
    "\n",
    "Here I define the weights for my CNN model (defined below). I have the weights for four 2D convolutional layers and two fully connected layers"
   ]
  },
  {
   "cell_type": "code",
   "execution_count": 5,
   "metadata": {},
   "outputs": [
    {
     "name": "stdout",
     "output_type": "stream",
     "text": [
      "WARNING:tensorflow:From /Users/arjunarora/anaconda3/envs/Buzz_Solutions/lib/python3.7/site-packages/tensorflow/python/framework/op_def_library.py:263: colocate_with (from tensorflow.python.framework.ops) is deprecated and will be removed in a future version.\n",
      "Instructions for updating:\n",
      "Colocations handled automatically by placer.\n"
     ]
    }
   ],
   "source": [
    "W = {'W_0': tf.get_variable('W0', shape=(3,3,1,16), initializer=tf.contrib.layers.xavier_initializer()),\n",
    "       'W_1': tf.get_variable('W1', shape=(3,3,16,64), initializer=tf.contrib.layers.xavier_initializer()),\n",
    "       'W_2': tf.get_variable('W2', shape=(3,3,64,128), initializer=tf.contrib.layers.xavier_initializer()),\n",
    "       'W_3': tf.get_variable('W3', shape=(3,3,128,256), initializer=tf.contrib.layers.xavier_initializer()),\n",
    "       'W_4': tf.get_variable('W4', shape=(256 * 2 * 2,128), initializer=tf.contrib.layers.xavier_initializer()),\n",
    "       'W_5': tf.get_variable('W5', shape=(128,n_classes), initializer=tf.contrib.layers.xavier_initializer()),\n",
    "      }\n",
    "b = {'B_0': tf.get_variable('B0', shape=(16), initializer=tf.contrib.layers.xavier_initializer()),\n",
    "       'B_1': tf.get_variable('B1', shape=(64), initializer=tf.contrib.layers.xavier_initializer()),\n",
    "       'B_2': tf.get_variable('B2', shape=(128), initializer=tf.contrib.layers.xavier_initializer()),\n",
    "       'B_3': tf.get_variable('B3', shape=(256), initializer=tf.contrib.layers.xavier_initializer()),\n",
    "       'B_4': tf.get_variable('B4', shape=(128), initializer=tf.contrib.layers.xavier_initializer()),\n",
    "       'B_5': tf.get_variable('B5', shape=(n_classes), initializer=tf.contrib.layers.xavier_initializer()),\n",
    "      }"
   ]
  },
  {
   "cell_type": "markdown",
   "metadata": {},
   "source": [
    "# Task 3 - Start Tensorflow interactive session"
   ]
  },
  {
   "cell_type": "code",
   "execution_count": 6,
   "metadata": {},
   "outputs": [],
   "source": [
    "sess = tf.InteractiveSession()"
   ]
  },
  {
   "cell_type": "markdown",
   "metadata": {},
   "source": [
    "# Task 4 - Build a function to train the model\n",
    "\n",
    "Here I define a function to train a model via softmax cross entropy. I also have parameterized batch size, learning rate (for Adam optim) and number of epochs "
   ]
  },
  {
   "cell_type": "code",
   "execution_count": 7,
   "metadata": {},
   "outputs": [],
   "source": [
    "def trainModel(Model,X,Y,lr = 0.001,batch_sz = 128,num_epochs = 100,model_pth = './model.ckpt'):\n",
    "    if len(X.shape) < 4: \n",
    "        X = X.reshape(-1, 28, 28, 1)\n",
    "    x = tf.placeholder(\"float\", [None, n,n,1])\n",
    "    y = tf.placeholder(\"float\", [None, n_classes])\n",
    "    \n",
    "    pred = Model(x)\n",
    "    cost = tf.reduce_mean(tf.nn.softmax_cross_entropy_with_logits(logits=pred, labels=y))\n",
    "    optimizer = tf.train.AdamOptimizer(learning_rate=lr).minimize(cost)\n",
    "    \n",
    "    num_correct = tf.equal(tf.argmax(pred, 1), tf.argmax(y, 1))\n",
    "    accuracy = tf.reduce_mean(tf.cast(num_correct, tf.float32))\n",
    "    saver = tf.train.Saver()\n",
    "    train_loss = []\n",
    "    train_accuracy = []\n",
    "    init = tf.global_variables_initializer()\n",
    "    \n",
    "    batchLen = len(X) // batch_sz\n",
    "    init = tf.initialize_all_variables()\n",
    "    sess.run(init)\n",
    "    for i in tqdm(range(num_epochs)):\n",
    "        for j in range(batchLen):\n",
    "            batch_X = X[j*batch_sz:min((j+1)*batch_sz,len(X))]\n",
    "            batch_Y = Y[j*batch_sz:min((j+1)*batch_sz,len(Y))]\n",
    "\n",
    "            opt = sess.run(optimizer, feed_dict={x: batch_X,y: batch_Y})\n",
    "            loss,acc = sess.run([cost, accuracy], feed_dict={x: batch_X,y: batch_Y})\n",
    "        train_loss.append(loss)\n",
    "        train_accuracy.append(acc)\n",
    "        print(\"Epoch: {}, Loss: {}, Accuracy: {}\".format(i + 1,loss,acc))\n",
    "        save_path = saver.save(sess, model_pth)\n",
    "    plt.figure()\n",
    "    plt.plot(train_loss,'r--',linewidth=2)\n",
    "    plt.title(\"train loss per epoch\")\n",
    "    \n",
    "    plt.figure()\n",
    "    plt.plot(train_accuracy,'g',linewidth=2)\n",
    "    plt.title(\"train accuracy per epoch\")"
   ]
  },
  {
   "cell_type": "markdown",
   "metadata": {},
   "source": [
    "# Task 5 - Build a function to test the model\n",
    "\n",
    "Here I define a function to test the model on a holdout test set. I report:\n",
    "\n",
    "accuracy: ( TP + TN /(TOTAL))\n",
    "\n",
    "recall: (TP/(TP + FN))\n",
    "\n",
    "precision: (TP/(TP + FP))\n",
    "\n",
    "f1 score: (2 * precision * recall / (precision + recall))\n",
    "\n",
    "as my metrics. \n",
    "\n",
    "(Note. These values are averaged across all 10 classes and reported as a singular value)\n",
    "\n"
   ]
  },
  {
   "cell_type": "code",
   "execution_count": 8,
   "metadata": {},
   "outputs": [],
   "source": [
    "def testModel(Model,test_X,test_Y,model_pth = \"./model.ckpt\"):\n",
    "    if len(test_X.shape) < 4: \n",
    "        test_X = test_X.reshape(-1, 28, 28, 1)\n",
    "    x = tf.placeholder(\"float\", [None, n,n,1])\n",
    "    y = tf.placeholder(\"float\", [None, n_classes])\n",
    "    pred = Model(x)\n",
    "    \n",
    "    cost = tf.reduce_mean(tf.nn.softmax_cross_entropy_with_logits(logits=pred, labels=y))\n",
    "    num_correct = tf.equal(tf.argmax(pred, 1), tf.argmax(y, 1))\n",
    "    \n",
    "    accuracy = tf.reduce_mean(tf.cast(num_correct, tf.float32))\n",
    "    y_hat = tf.argmax(pred,1)\n",
    "    \n",
    "    saver = tf.train.Saver()\n",
    "\n",
    "    test_loss,test_acc,predicted_y = sess.run([cost,accuracy,y_hat], feed_dict={x: test_X,y : test_Y})\n",
    "    y_gt = np.argmax(test_Y,1)\n",
    "    \n",
    "    precision = sk.metrics.precision_score(y_gt, predicted_y,average='micro')\n",
    "    recall = sk.metrics.recall_score(y_gt, predicted_y,average='micro')\n",
    "    f1 = sk.metrics.f1_score(y_gt, predicted_y,average='micro')\n",
    "    \n",
    "    saver.restore(sess, model_pth)\n",
    "    print(\"test loss: {}\".format(test_loss))\n",
    "    print(\"test accuracy: {}\".format(test_acc))\n",
    "    print (\"avg precision across classes : {}\".format(precision))\n",
    "    print (\"avg recall across classes: {}\".format(recall))\n",
    "    print (\"avg f1_score across classes: {}\".format(f1))\n",
    "    return test_loss,test_acc,precision,recall,f1"
   ]
  },
  {
   "cell_type": "markdown",
   "metadata": {},
   "source": [
    "# Task 6 - Build a function for convolution layer\n",
    "\n",
    "Below I define my CNN architecture. I use four (conv2d - leaky-relu - maxpool) layers and then two fully connected layers to get the output of the model into the shape of number of classes (10,1)"
   ]
  },
  {
   "cell_type": "code",
   "execution_count": 9,
   "metadata": {},
   "outputs": [],
   "source": [
    "class CNN(object):\n",
    "    def __init__(self,W,b):\n",
    "        self.W = W\n",
    "        self.b = b\n",
    "    def conv(self,x,W_i,b_i,s = 1):\n",
    "        x = tf.nn.bias_add(tf.nn.conv2d(x, W_i,[1,s,s,1],padding='SAME'),b_i)\n",
    "        return tf.nn.leaky_relu(x)\n",
    "    def maxpool(self,x):\n",
    "        kernel_sz= [1,2,2,1]\n",
    "        return tf.nn.max_pool(x,kernel_sz,kernel_sz,padding='SAME')\n",
    "    def dense(self,x,W_i,b_i):\n",
    "        return tf.nn.leaky_relu(tf.add(tf.matmul(x,W_i),b_i))\n",
    "    def __call__(self,x):\n",
    "        c0 = self.conv(x, self.W['W_0'], self.b['B_0']) # 28 x 28 x 16\n",
    "        m0 = self.maxpool(c0)\n",
    "        \n",
    "        c1 = self.conv(m0,self.W['W_1'],self.b['B_1']) # 14 x 14 x 64\n",
    "        m1 = self.maxpool(c1)\n",
    "        \n",
    "        c2 = self.conv(m1,self.W['W_2'],self.b['B_2']) # 7 x 7 x 128\n",
    "        m2 = self.maxpool(c2)\n",
    "        \n",
    "        c3 = self.conv(m2,self.W['W_3'],self.b['B_3']) # 4 x 4 x 256\n",
    "        m3 = self.maxpool(c3) # 2 x 2 x 256\n",
    "\n",
    "        d0 = tf.reshape(m3, [-1, self.W['W_4'].get_shape().as_list()[0]]) # (256 x 2 x 2, 1)\n",
    "        d0 = self.dense(d0,self.W['W_4'], self.b['B_4']) # (128, 1)\n",
    "\n",
    "        d1 = self.dense(d0,self.W['W_5'],self.b['B_5']) # (10,1)\n",
    "        return d1 \n",
    "model = CNN(W,b)"
   ]
  },
  {
   "cell_type": "markdown",
   "metadata": {},
   "source": [
    "# Task 7 Evaluate the model and provide accuracy for classification\n",
    "\n",
    "The two cells below train the model and then evaluate it using the train and test set for mnist respectively. As stated before, I report the accuracy, avg. precision, avg. recall and  avg. f1 score. Emperically, I've found all of these metrics to be above 0.99 on the test set."
   ]
  },
  {
   "cell_type": "code",
   "execution_count": 11,
   "metadata": {
    "scrolled": true
   },
   "outputs": [
    {
     "name": "stderr",
     "output_type": "stream",
     "text": [
      " 10%|█         | 1/10 [00:47<07:07, 47.48s/it]"
     ]
    },
    {
     "name": "stdout",
     "output_type": "stream",
     "text": [
      "Epoch: 1, Loss: 0.005176599603146315, Accuracy: 1.0\n"
     ]
    },
    {
     "name": "stderr",
     "output_type": "stream",
     "text": [
      "\r",
      " 20%|██        | 2/10 [01:35<06:21, 47.74s/it]"
     ]
    },
    {
     "name": "stdout",
     "output_type": "stream",
     "text": [
      "Epoch: 2, Loss: 0.011341002769768238, Accuracy: 0.9921875\n"
     ]
    },
    {
     "name": "stderr",
     "output_type": "stream",
     "text": [
      "\r",
      " 30%|███       | 3/10 [02:25<05:38, 48.42s/it]"
     ]
    },
    {
     "name": "stdout",
     "output_type": "stream",
     "text": [
      "Epoch: 3, Loss: 0.004639945924282074, Accuracy: 1.0\n"
     ]
    },
    {
     "name": "stderr",
     "output_type": "stream",
     "text": [
      "\r",
      " 40%|████      | 4/10 [03:14<04:51, 48.57s/it]"
     ]
    },
    {
     "name": "stdout",
     "output_type": "stream",
     "text": [
      "Epoch: 4, Loss: 0.0018130172975361347, Accuracy: 1.0\n"
     ]
    },
    {
     "name": "stderr",
     "output_type": "stream",
     "text": [
      "\r",
      " 50%|█████     | 5/10 [04:02<04:01, 48.35s/it]"
     ]
    },
    {
     "name": "stdout",
     "output_type": "stream",
     "text": [
      "Epoch: 5, Loss: 0.009981744922697544, Accuracy: 0.9921875\n"
     ]
    },
    {
     "name": "stderr",
     "output_type": "stream",
     "text": [
      "\r",
      " 60%|██████    | 6/10 [04:56<03:19, 49.93s/it]"
     ]
    },
    {
     "name": "stdout",
     "output_type": "stream",
     "text": [
      "Epoch: 6, Loss: 0.0006363600841723382, Accuracy: 1.0\n"
     ]
    },
    {
     "name": "stderr",
     "output_type": "stream",
     "text": [
      "\r",
      " 70%|███████   | 7/10 [05:51<02:34, 51.47s/it]"
     ]
    },
    {
     "name": "stdout",
     "output_type": "stream",
     "text": [
      "Epoch: 7, Loss: 0.0002566226467024535, Accuracy: 1.0\n"
     ]
    },
    {
     "name": "stderr",
     "output_type": "stream",
     "text": [
      "\r",
      " 80%|████████  | 8/10 [06:46<01:45, 52.58s/it]"
     ]
    },
    {
     "name": "stdout",
     "output_type": "stream",
     "text": [
      "Epoch: 8, Loss: 7.687827746849507e-05, Accuracy: 1.0\n"
     ]
    },
    {
     "name": "stderr",
     "output_type": "stream",
     "text": [
      "\r",
      " 90%|█████████ | 9/10 [07:41<00:53, 53.32s/it]"
     ]
    },
    {
     "name": "stdout",
     "output_type": "stream",
     "text": [
      "Epoch: 9, Loss: 2.9559208996943198e-05, Accuracy: 1.0\n"
     ]
    },
    {
     "name": "stderr",
     "output_type": "stream",
     "text": [
      "100%|██████████| 10/10 [08:37<00:00, 51.71s/it]"
     ]
    },
    {
     "name": "stdout",
     "output_type": "stream",
     "text": [
      "Epoch: 10, Loss: 0.0008096302626654506, Accuracy: 1.0\n"
     ]
    },
    {
     "name": "stderr",
     "output_type": "stream",
     "text": [
      "\n"
     ]
    },
    {
     "data": {
      "image/png": "[encoded data removed]",
      "text/plain": [
       "<Figure size 432x288 with 1 Axes>"
      ]
     },
     "metadata": {
      "needs_background": "light"
     },
     "output_type": "display_data"
    },
    {
     "data": {
      "image/png": "[encoded data removed]",
      "text/plain": [
       "<Figure size 432x288 with 1 Axes>"
      ]
     },
     "metadata": {
      "needs_background": "light"
     },
     "output_type": "display_data"
    }
   ],
   "source": [
    "trainModel(model,mnist.train.images,mnist.train.labels,num_epochs = 10)"
   ]
  },
  {
   "cell_type": "code",
   "execution_count": 13,
   "metadata": {
    "scrolled": true
   },
   "outputs": [
    {
     "name": "stdout",
     "output_type": "stream",
     "text": [
      "INFO:tensorflow:Restoring parameters from ./model.ckpt\n",
      "test loss: 0.03642547130584717\n",
      "test accuracy: 0.9904000163078308\n",
      "avg precision across classes : 0.9904\n",
      "avg recall across classes: 0.9904\n",
      "avg f1_score across classes: 0.9904\n"
     ]
    },
    {
     "data": {
      "text/plain": [
       "(0.03642547, 0.9904, 0.9904, 0.9904, 0.9904)"
      ]
     },
     "execution_count": 13,
     "metadata": {},
     "output_type": "execute_result"
    }
   ],
   "source": [
    "testModel(model,mnist.test.images,mnist.test.labels)"
   ]
  },
  {
   "cell_type": "code",
   "execution_count": null,
   "metadata": {},
   "outputs": [],
   "source": []
  }
 ],
 "metadata": {
  "kernelspec": {
   "display_name": "Python (Buzz_Solutions)",
   "language": "python",
   "name": "buzz_solutions"
  },
  "language_info": {
   "codemirror_mode": {
    "name": "ipython",
    "version": 3
   },
   "file_extension": ".py",
   "mimetype": "text/x-python",
   "name": "python",
   "nbconvert_exporter": "python",
   "pygments_lexer": "ipython3",
   "version": "3.7.7"
  }
 },
 "nbformat": 4,
 "nbformat_minor": 4
}
